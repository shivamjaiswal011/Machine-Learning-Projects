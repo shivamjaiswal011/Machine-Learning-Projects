{
 "cells": [
  {
   "cell_type": "code",
   "execution_count": 2,
   "metadata": {},
   "outputs": [],
   "source": [
    "import pandas as pd\n",
    "import numpy as np\n",
    "import matplotlib.pyplot as plt\n",
    "import math\n",
    "import os\n",
    "from collections import defaultdict\n",
    "import scipy.io as scipy"
   ]
  },
  {
   "cell_type": "code",
   "execution_count": 3,
   "metadata": {},
   "outputs": [
    {
     "data": {
      "text/html": [
       "<div>\n",
       "<style scoped>\n",
       "    .dataframe tbody tr th:only-of-type {\n",
       "        vertical-align: middle;\n",
       "    }\n",
       "\n",
       "    .dataframe tbody tr th {\n",
       "        vertical-align: top;\n",
       "    }\n",
       "\n",
       "    .dataframe thead th {\n",
       "        text-align: right;\n",
       "    }\n",
       "</style>\n",
       "<table border=\"1\" class=\"dataframe\">\n",
       "  <thead>\n",
       "    <tr style=\"text-align: right;\">\n",
       "      <th></th>\n",
       "      <th>id</th>\n",
       "      <th>0</th>\n",
       "      <th>1</th>\n",
       "      <th>2</th>\n",
       "      <th>3</th>\n",
       "      <th>4</th>\n",
       "      <th>5</th>\n",
       "      <th>6</th>\n",
       "      <th>7</th>\n",
       "      <th>8</th>\n",
       "      <th>...</th>\n",
       "      <th>10</th>\n",
       "      <th>11</th>\n",
       "      <th>12</th>\n",
       "      <th>13</th>\n",
       "      <th>14</th>\n",
       "      <th>15</th>\n",
       "      <th>16</th>\n",
       "      <th>17</th>\n",
       "      <th>18</th>\n",
       "      <th>Class</th>\n",
       "    </tr>\n",
       "  </thead>\n",
       "  <tbody>\n",
       "    <tr>\n",
       "      <th>0</th>\n",
       "      <td>1</td>\n",
       "      <td>1</td>\n",
       "      <td>1</td>\n",
       "      <td>22</td>\n",
       "      <td>22</td>\n",
       "      <td>22</td>\n",
       "      <td>19</td>\n",
       "      <td>18</td>\n",
       "      <td>14</td>\n",
       "      <td>49.895756</td>\n",
       "      <td>...</td>\n",
       "      <td>5.270920</td>\n",
       "      <td>0.771761</td>\n",
       "      <td>0.018632</td>\n",
       "      <td>0.006864</td>\n",
       "      <td>0.003923</td>\n",
       "      <td>0.003923</td>\n",
       "      <td>0.486903</td>\n",
       "      <td>0.100025</td>\n",
       "      <td>1</td>\n",
       "      <td>0</td>\n",
       "    </tr>\n",
       "    <tr>\n",
       "      <th>1</th>\n",
       "      <td>2</td>\n",
       "      <td>1</td>\n",
       "      <td>1</td>\n",
       "      <td>24</td>\n",
       "      <td>24</td>\n",
       "      <td>22</td>\n",
       "      <td>18</td>\n",
       "      <td>16</td>\n",
       "      <td>13</td>\n",
       "      <td>57.709936</td>\n",
       "      <td>...</td>\n",
       "      <td>3.325423</td>\n",
       "      <td>0.234185</td>\n",
       "      <td>0.003903</td>\n",
       "      <td>0.003903</td>\n",
       "      <td>0.003903</td>\n",
       "      <td>0.003903</td>\n",
       "      <td>0.520908</td>\n",
       "      <td>0.144414</td>\n",
       "      <td>0</td>\n",
       "      <td>0</td>\n",
       "    </tr>\n",
       "    <tr>\n",
       "      <th>2</th>\n",
       "      <td>3</td>\n",
       "      <td>1</td>\n",
       "      <td>1</td>\n",
       "      <td>62</td>\n",
       "      <td>60</td>\n",
       "      <td>59</td>\n",
       "      <td>54</td>\n",
       "      <td>47</td>\n",
       "      <td>33</td>\n",
       "      <td>55.831441</td>\n",
       "      <td>...</td>\n",
       "      <td>12.687485</td>\n",
       "      <td>4.852282</td>\n",
       "      <td>1.393889</td>\n",
       "      <td>0.373252</td>\n",
       "      <td>0.041817</td>\n",
       "      <td>0.007744</td>\n",
       "      <td>0.530904</td>\n",
       "      <td>0.128548</td>\n",
       "      <td>0</td>\n",
       "      <td>1</td>\n",
       "    </tr>\n",
       "    <tr>\n",
       "      <th>3</th>\n",
       "      <td>4</td>\n",
       "      <td>1</td>\n",
       "      <td>1</td>\n",
       "      <td>55</td>\n",
       "      <td>53</td>\n",
       "      <td>53</td>\n",
       "      <td>50</td>\n",
       "      <td>43</td>\n",
       "      <td>31</td>\n",
       "      <td>40.467228</td>\n",
       "      <td>...</td>\n",
       "      <td>9.118901</td>\n",
       "      <td>3.079428</td>\n",
       "      <td>0.840261</td>\n",
       "      <td>0.272434</td>\n",
       "      <td>0.007653</td>\n",
       "      <td>0.001531</td>\n",
       "      <td>0.483284</td>\n",
       "      <td>0.114790</td>\n",
       "      <td>0</td>\n",
       "      <td>0</td>\n",
       "    </tr>\n",
       "    <tr>\n",
       "      <th>4</th>\n",
       "      <td>5</td>\n",
       "      <td>1</td>\n",
       "      <td>1</td>\n",
       "      <td>44</td>\n",
       "      <td>44</td>\n",
       "      <td>44</td>\n",
       "      <td>41</td>\n",
       "      <td>39</td>\n",
       "      <td>27</td>\n",
       "      <td>18.026254</td>\n",
       "      <td>...</td>\n",
       "      <td>0.410381</td>\n",
       "      <td>0.000000</td>\n",
       "      <td>0.000000</td>\n",
       "      <td>0.000000</td>\n",
       "      <td>0.000000</td>\n",
       "      <td>0.000000</td>\n",
       "      <td>0.475935</td>\n",
       "      <td>0.123572</td>\n",
       "      <td>0</td>\n",
       "      <td>1</td>\n",
       "    </tr>\n",
       "    <tr>\n",
       "      <th>...</th>\n",
       "      <td>...</td>\n",
       "      <td>...</td>\n",
       "      <td>...</td>\n",
       "      <td>...</td>\n",
       "      <td>...</td>\n",
       "      <td>...</td>\n",
       "      <td>...</td>\n",
       "      <td>...</td>\n",
       "      <td>...</td>\n",
       "      <td>...</td>\n",
       "      <td>...</td>\n",
       "      <td>...</td>\n",
       "      <td>...</td>\n",
       "      <td>...</td>\n",
       "      <td>...</td>\n",
       "      <td>...</td>\n",
       "      <td>...</td>\n",
       "      <td>...</td>\n",
       "      <td>...</td>\n",
       "      <td>...</td>\n",
       "      <td>...</td>\n",
       "    </tr>\n",
       "    <tr>\n",
       "      <th>1146</th>\n",
       "      <td>1147</td>\n",
       "      <td>1</td>\n",
       "      <td>1</td>\n",
       "      <td>34</td>\n",
       "      <td>34</td>\n",
       "      <td>34</td>\n",
       "      <td>33</td>\n",
       "      <td>31</td>\n",
       "      <td>24</td>\n",
       "      <td>6.071765</td>\n",
       "      <td>...</td>\n",
       "      <td>0.031145</td>\n",
       "      <td>0.003115</td>\n",
       "      <td>0.000000</td>\n",
       "      <td>0.000000</td>\n",
       "      <td>0.000000</td>\n",
       "      <td>0.000000</td>\n",
       "      <td>0.537470</td>\n",
       "      <td>0.116795</td>\n",
       "      <td>0</td>\n",
       "      <td>0</td>\n",
       "    </tr>\n",
       "    <tr>\n",
       "      <th>1147</th>\n",
       "      <td>1148</td>\n",
       "      <td>1</td>\n",
       "      <td>1</td>\n",
       "      <td>49</td>\n",
       "      <td>49</td>\n",
       "      <td>49</td>\n",
       "      <td>49</td>\n",
       "      <td>45</td>\n",
       "      <td>37</td>\n",
       "      <td>63.197145</td>\n",
       "      <td>...</td>\n",
       "      <td>8.067688</td>\n",
       "      <td>0.979548</td>\n",
       "      <td>0.001552</td>\n",
       "      <td>0.000000</td>\n",
       "      <td>0.000000</td>\n",
       "      <td>0.000000</td>\n",
       "      <td>0.516733</td>\n",
       "      <td>0.124190</td>\n",
       "      <td>0</td>\n",
       "      <td>0</td>\n",
       "    </tr>\n",
       "    <tr>\n",
       "      <th>1148</th>\n",
       "      <td>1149</td>\n",
       "      <td>1</td>\n",
       "      <td>0</td>\n",
       "      <td>49</td>\n",
       "      <td>48</td>\n",
       "      <td>48</td>\n",
       "      <td>45</td>\n",
       "      <td>43</td>\n",
       "      <td>33</td>\n",
       "      <td>30.461898</td>\n",
       "      <td>...</td>\n",
       "      <td>1.763305</td>\n",
       "      <td>0.137858</td>\n",
       "      <td>0.011221</td>\n",
       "      <td>0.000000</td>\n",
       "      <td>0.000000</td>\n",
       "      <td>0.000000</td>\n",
       "      <td>0.560632</td>\n",
       "      <td>0.129843</td>\n",
       "      <td>0</td>\n",
       "      <td>0</td>\n",
       "    </tr>\n",
       "    <tr>\n",
       "      <th>1149</th>\n",
       "      <td>1150</td>\n",
       "      <td>1</td>\n",
       "      <td>1</td>\n",
       "      <td>39</td>\n",
       "      <td>36</td>\n",
       "      <td>29</td>\n",
       "      <td>23</td>\n",
       "      <td>13</td>\n",
       "      <td>7</td>\n",
       "      <td>40.525739</td>\n",
       "      <td>...</td>\n",
       "      <td>4.740919</td>\n",
       "      <td>1.077570</td>\n",
       "      <td>0.563518</td>\n",
       "      <td>0.326860</td>\n",
       "      <td>0.239568</td>\n",
       "      <td>0.174584</td>\n",
       "      <td>0.485972</td>\n",
       "      <td>0.106690</td>\n",
       "      <td>1</td>\n",
       "      <td>1</td>\n",
       "    </tr>\n",
       "    <tr>\n",
       "      <th>1150</th>\n",
       "      <td>1151</td>\n",
       "      <td>1</td>\n",
       "      <td>1</td>\n",
       "      <td>7</td>\n",
       "      <td>7</td>\n",
       "      <td>7</td>\n",
       "      <td>7</td>\n",
       "      <td>7</td>\n",
       "      <td>5</td>\n",
       "      <td>69.423565</td>\n",
       "      <td>...</td>\n",
       "      <td>1.750548</td>\n",
       "      <td>0.046597</td>\n",
       "      <td>0.021180</td>\n",
       "      <td>0.008472</td>\n",
       "      <td>0.000000</td>\n",
       "      <td>0.000000</td>\n",
       "      <td>0.556192</td>\n",
       "      <td>0.088957</td>\n",
       "      <td>0</td>\n",
       "      <td>0</td>\n",
       "    </tr>\n",
       "  </tbody>\n",
       "</table>\n",
       "<p>1151 rows × 21 columns</p>\n",
       "</div>"
      ],
      "text/plain": [
       "        id  0  1   2   3   4   5   6   7          8  ...         10        11  \\\n",
       "0        1  1  1  22  22  22  19  18  14  49.895756  ...   5.270920  0.771761   \n",
       "1        2  1  1  24  24  22  18  16  13  57.709936  ...   3.325423  0.234185   \n",
       "2        3  1  1  62  60  59  54  47  33  55.831441  ...  12.687485  4.852282   \n",
       "3        4  1  1  55  53  53  50  43  31  40.467228  ...   9.118901  3.079428   \n",
       "4        5  1  1  44  44  44  41  39  27  18.026254  ...   0.410381  0.000000   \n",
       "...    ... .. ..  ..  ..  ..  ..  ..  ..        ...  ...        ...       ...   \n",
       "1146  1147  1  1  34  34  34  33  31  24   6.071765  ...   0.031145  0.003115   \n",
       "1147  1148  1  1  49  49  49  49  45  37  63.197145  ...   8.067688  0.979548   \n",
       "1148  1149  1  0  49  48  48  45  43  33  30.461898  ...   1.763305  0.137858   \n",
       "1149  1150  1  1  39  36  29  23  13   7  40.525739  ...   4.740919  1.077570   \n",
       "1150  1151  1  1   7   7   7   7   7   5  69.423565  ...   1.750548  0.046597   \n",
       "\n",
       "            12        13        14        15        16        17  18  Class  \n",
       "0     0.018632  0.006864  0.003923  0.003923  0.486903  0.100025   1      0  \n",
       "1     0.003903  0.003903  0.003903  0.003903  0.520908  0.144414   0      0  \n",
       "2     1.393889  0.373252  0.041817  0.007744  0.530904  0.128548   0      1  \n",
       "3     0.840261  0.272434  0.007653  0.001531  0.483284  0.114790   0      0  \n",
       "4     0.000000  0.000000  0.000000  0.000000  0.475935  0.123572   0      1  \n",
       "...        ...       ...       ...       ...       ...       ...  ..    ...  \n",
       "1146  0.000000  0.000000  0.000000  0.000000  0.537470  0.116795   0      0  \n",
       "1147  0.001552  0.000000  0.000000  0.000000  0.516733  0.124190   0      0  \n",
       "1148  0.011221  0.000000  0.000000  0.000000  0.560632  0.129843   0      0  \n",
       "1149  0.563518  0.326860  0.239568  0.174584  0.485972  0.106690   1      1  \n",
       "1150  0.021180  0.008472  0.000000  0.000000  0.556192  0.088957   0      0  \n",
       "\n",
       "[1151 rows x 21 columns]"
      ]
     },
     "execution_count": 3,
     "metadata": {},
     "output_type": "execute_result"
    }
   ],
   "source": [
    "data = pd.read_csv(\"/Users/shivam/Documents/ml/csv_result-messidor_features.csv\")\n",
    "data"
   ]
  },
  {
   "cell_type": "code",
   "execution_count": 4,
   "metadata": {},
   "outputs": [
    {
     "data": {
      "text/plain": [
       "(      0  1   2   3   4   5   6   7          8          9         10        11  \\\n",
       " 0     1  1  22  22  22  19  18  14  49.895756  17.775994   5.270920  0.771761   \n",
       " 1     1  1  24  24  22  18  16  13  57.709936  23.799994   3.325423  0.234185   \n",
       " 2     1  1  62  60  59  54  47  33  55.831441  27.993933  12.687485  4.852282   \n",
       " 3     1  1  55  53  53  50  43  31  40.467228  18.445954   9.118901  3.079428   \n",
       " 4     1  1  44  44  44  41  39  27  18.026254   8.570709   0.410381  0.000000   \n",
       " ...  .. ..  ..  ..  ..  ..  ..  ..        ...        ...        ...       ...   \n",
       " 1146  1  1  34  34  34  33  31  24   6.071765   0.937472   0.031145  0.003115   \n",
       " 1147  1  1  49  49  49  49  45  37  63.197145  27.377668   8.067688  0.979548   \n",
       " 1148  1  0  49  48  48  45  43  33  30.461898  13.966980   1.763305  0.137858   \n",
       " 1149  1  1  39  36  29  23  13   7  40.525739  12.604947   4.740919  1.077570   \n",
       " 1150  1  1   7   7   7   7   7   5  69.423565   7.031843   1.750548  0.046597   \n",
       " \n",
       "             12        13        14        15        16        17  18  \n",
       " 0     0.018632  0.006864  0.003923  0.003923  0.486903  0.100025   1  \n",
       " 1     0.003903  0.003903  0.003903  0.003903  0.520908  0.144414   0  \n",
       " 2     1.393889  0.373252  0.041817  0.007744  0.530904  0.128548   0  \n",
       " 3     0.840261  0.272434  0.007653  0.001531  0.483284  0.114790   0  \n",
       " 4     0.000000  0.000000  0.000000  0.000000  0.475935  0.123572   0  \n",
       " ...        ...       ...       ...       ...       ...       ...  ..  \n",
       " 1146  0.000000  0.000000  0.000000  0.000000  0.537470  0.116795   0  \n",
       " 1147  0.001552  0.000000  0.000000  0.000000  0.516733  0.124190   0  \n",
       " 1148  0.011221  0.000000  0.000000  0.000000  0.560632  0.129843   0  \n",
       " 1149  0.563518  0.326860  0.239568  0.174584  0.485972  0.106690   1  \n",
       " 1150  0.021180  0.008472  0.000000  0.000000  0.556192  0.088957   0  \n",
       " \n",
       " [1151 rows x 19 columns],\n",
       "       Class\n",
       " 0         0\n",
       " 1         0\n",
       " 2         1\n",
       " 3         0\n",
       " 4         1\n",
       " ...     ...\n",
       " 1146      0\n",
       " 1147      0\n",
       " 1148      0\n",
       " 1149      1\n",
       " 1150      0\n",
       " \n",
       " [1151 rows x 1 columns])"
      ]
     },
     "execution_count": 4,
     "metadata": {},
     "output_type": "execute_result"
    }
   ],
   "source": [
    "x_data = data[['0', '1', '2', '3', '4', '5', '6', '7', '8', '9', '10', '11',\n",
    "       '12', '13', '14', '15', '16', '17', '18']]\n",
    "y_data = data[['Class']] \n",
    "\n",
    "x_data, y_data"
   ]
  },
  {
   "cell_type": "code",
   "execution_count": 5,
   "metadata": {},
   "outputs": [
    {
     "data": {
      "text/plain": [
       "array([[ 0.        ,  0.        , -0.33333333, ..., -0.89196242,\n",
       "        -0.27732011,  1.        ],\n",
       "       [ 0.        ,  0.        , -0.28205128, ..., -0.05880263,\n",
       "         1.58839106,  0.        ],\n",
       "       [ 0.        ,  0.        ,  0.69230769, ...,  0.18611033,\n",
       "         0.92152824,  0.        ],\n",
       "       ...,\n",
       "       [ 0.        , -1.        ,  0.35897436, ...,  0.91447892,\n",
       "         0.97595831,  0.        ],\n",
       "       [ 0.        ,  0.        ,  0.1025641 , ..., -0.91477294,\n",
       "         0.00281607,  1.        ],\n",
       "       [ 0.        ,  0.        , -0.71794872, ...,  0.80569405,\n",
       "        -0.74251849,  0.        ]])"
      ]
     },
     "execution_count": 5,
     "metadata": {},
     "output_type": "execute_result"
    }
   ],
   "source": [
    "from sklearn.preprocessing import RobustScaler\n",
    "\n",
    "rob = RobustScaler().fit(x_data)\n",
    "x_data = rob.transform(x_data)\n",
    "\n",
    "x_data"
   ]
  },
  {
   "cell_type": "code",
   "execution_count": 6,
   "metadata": {},
   "outputs": [
    {
     "data": {
      "text/plain": [
       "array([0, 0, 1, ..., 0, 1, 0])"
      ]
     },
     "execution_count": 6,
     "metadata": {},
     "output_type": "execute_result"
    }
   ],
   "source": [
    "y_data = y_data.values.ravel()\n",
    "y_data"
   ]
  },
  {
   "cell_type": "code",
   "execution_count": 30,
   "metadata": {},
   "outputs": [],
   "source": [
    "from sklearn.model_selection import StratifiedKFold\n",
    "from sklearn.metrics import confusion_matrix\n",
    "from sklearn.metrics import classification_report\n",
    "import seaborn as sns \n",
    "from sklearn.ensemble import RandomForestClassifier\n",
    "\n",
    "def get_score(model, X_train, X_test, y_train, y_test):\n",
    "    model.fit(X_train, y_train)\n",
    "    y_pred = model.predict(X_test)\n",
    "    cm= confusion_matrix(y_test, y_pred)\n",
    "    print (classification_report(y_test,y_pred))\n",
    "    return cm"
   ]
  },
  {
   "cell_type": "code",
   "execution_count": 19,
   "metadata": {},
   "outputs": [
    {
     "data": {
      "text/html": [
       "<div>\n",
       "<style scoped>\n",
       "    .dataframe tbody tr th:only-of-type {\n",
       "        vertical-align: middle;\n",
       "    }\n",
       "\n",
       "    .dataframe tbody tr th {\n",
       "        vertical-align: top;\n",
       "    }\n",
       "\n",
       "    .dataframe thead th {\n",
       "        text-align: right;\n",
       "    }\n",
       "</style>\n",
       "<table border=\"1\" class=\"dataframe\">\n",
       "  <thead>\n",
       "    <tr style=\"text-align: right;\">\n",
       "      <th></th>\n",
       "      <th>best_score</th>\n",
       "      <th>best_params</th>\n",
       "    </tr>\n",
       "  </thead>\n",
       "  <tbody>\n",
       "    <tr>\n",
       "      <th>0</th>\n",
       "      <td>0.687209</td>\n",
       "      <td>{'n_estimators': 50}</td>\n",
       "    </tr>\n",
       "  </tbody>\n",
       "</table>\n",
       "</div>"
      ],
      "text/plain": [
       "   best_score           best_params\n",
       "0    0.687209  {'n_estimators': 50}"
      ]
     },
     "execution_count": 19,
     "metadata": {},
     "output_type": "execute_result"
    }
   ],
   "source": [
    "from sklearn.model_selection import GridSearchCV\n",
    "clf = GridSearchCV(RandomForestClassifier(), {\n",
    "    'n_estimators': [1,5,50]\n",
    "    \n",
    "}, cv=StratifiedKFold(5), return_train_score=False)\n",
    "clf.fit(x_data, y_data)\n",
    "scores = []\n",
    "\n",
    "scores.append({\n",
    "    'best_score': clf.best_score_,\n",
    "    'best_params': clf.best_params_\n",
    "    })\n",
    "    \n",
    "did = pd.DataFrame(scores,columns=['best_score','best_params'])\n",
    "did"
   ]
  },
  {
   "cell_type": "code",
   "execution_count": 31,
   "metadata": {},
   "outputs": [
    {
     "name": "stdout",
     "output_type": "stream",
     "text": [
      "              precision    recall  f1-score   support\n",
      "\n",
      "           0       0.63      0.69      0.66       108\n",
      "           1       0.71      0.64      0.67       123\n",
      "\n",
      "    accuracy                           0.67       231\n",
      "   macro avg       0.67      0.67      0.67       231\n",
      "weighted avg       0.67      0.67      0.67       231\n",
      "\n"
     ]
    },
    {
     "data": {
      "image/png": "[encoded data removed]",
      "text/plain": [
       "<Figure size 360x360 with 2 Axes>"
      ]
     },
     "metadata": {
      "needs_background": "light"
     },
     "output_type": "display_data"
    },
    {
     "name": "stdout",
     "output_type": "stream",
     "text": [
      "              precision    recall  f1-score   support\n",
      "\n",
      "           0       0.63      0.65      0.64       108\n",
      "           1       0.68      0.66      0.67       122\n",
      "\n",
      "    accuracy                           0.66       230\n",
      "   macro avg       0.66      0.66      0.66       230\n",
      "weighted avg       0.66      0.66      0.66       230\n",
      "\n"
     ]
    },
    {
     "data": {
      "image/png": "[encoded data removed]",
      "text/plain": [
       "<Figure size 360x360 with 2 Axes>"
      ]
     },
     "metadata": {
      "needs_background": "light"
     },
     "output_type": "display_data"
    },
    {
     "name": "stdout",
     "output_type": "stream",
     "text": [
      "              precision    recall  f1-score   support\n",
      "\n",
      "           0       0.69      0.77      0.73       108\n",
      "           1       0.77      0.70      0.73       122\n",
      "\n",
      "    accuracy                           0.73       230\n",
      "   macro avg       0.73      0.73      0.73       230\n",
      "weighted avg       0.73      0.73      0.73       230\n",
      "\n"
     ]
    },
    {
     "data": {
      "image/png": "[encoded data removed]",
      "text/plain": [
       "<Figure size 360x360 with 2 Axes>"
      ]
     },
     "metadata": {
      "needs_background": "light"
     },
     "output_type": "display_data"
    },
    {
     "name": "stdout",
     "output_type": "stream",
     "text": [
      "              precision    recall  f1-score   support\n",
      "\n",
      "           0       0.60      0.69      0.64       108\n",
      "           1       0.68      0.58      0.63       122\n",
      "\n",
      "    accuracy                           0.63       230\n",
      "   macro avg       0.64      0.64      0.63       230\n",
      "weighted avg       0.64      0.63      0.63       230\n",
      "\n"
     ]
    },
    {
     "data": {
      "image/png": "[encoded data removed]",
      "text/plain": [
       "<Figure size 360x360 with 2 Axes>"
      ]
     },
     "metadata": {
      "needs_background": "light"
     },
     "output_type": "display_data"
    },
    {
     "name": "stdout",
     "output_type": "stream",
     "text": [
      "              precision    recall  f1-score   support\n",
      "\n",
      "           0       0.62      0.65      0.63       108\n",
      "           1       0.68      0.65      0.66       122\n",
      "\n",
      "    accuracy                           0.65       230\n",
      "   macro avg       0.65      0.65      0.65       230\n",
      "weighted avg       0.65      0.65      0.65       230\n",
      "\n"
     ]
    },
    {
     "data": {
      "image/png": "[encoded data removed]",
      "text/plain": [
       "<Figure size 360x360 with 2 Axes>"
      ]
     },
     "metadata": {
      "needs_background": "light"
     },
     "output_type": "display_data"
    }
   ],
   "source": [
    "folds = StratifiedKFold(n_splits=5)\n",
    "\n",
    "for train_index, test_index in folds.split(x_data, y_data):\n",
    "    X_train, X_test, y_train, y_test = x_data[train_index], x_data[test_index], \\\n",
    "                                       y_data[train_index], y_data[test_index]\n",
    "    cm = get_score(RandomForestClassifier(n_estimators=50), X_train, X_test, y_train, y_test)  \n",
    "    f, ax =plt.subplots(figsize = (5,5))\n",
    "    sns.heatmap(cm,annot = True, linewidths= 0.5, linecolor=\"red\", fmt=\".0f\", ax=ax)\n",
    "    plt.xlabel(\"y_pred\")\n",
    "    plt.ylabel(\"y_true\")\n",
    "    plt.show()"
   ]
  },
  {
   "cell_type": "code",
   "execution_count": 20,
   "metadata": {},
   "outputs": [
    {
     "data": {
      "text/html": [
       "<div>\n",
       "<style scoped>\n",
       "    .dataframe tbody tr th:only-of-type {\n",
       "        vertical-align: middle;\n",
       "    }\n",
       "\n",
       "    .dataframe tbody tr th {\n",
       "        vertical-align: top;\n",
       "    }\n",
       "\n",
       "    .dataframe thead th {\n",
       "        text-align: right;\n",
       "    }\n",
       "</style>\n",
       "<table border=\"1\" class=\"dataframe\">\n",
       "  <thead>\n",
       "    <tr style=\"text-align: right;\">\n",
       "      <th></th>\n",
       "      <th>best_score</th>\n",
       "      <th>best_params</th>\n",
       "    </tr>\n",
       "  </thead>\n",
       "  <tbody>\n",
       "    <tr>\n",
       "      <th>0</th>\n",
       "      <td>0.61511</td>\n",
       "      <td>{'max_leaf_nodes': 1000, 'min_samples_split': 2}</td>\n",
       "    </tr>\n",
       "  </tbody>\n",
       "</table>\n",
       "</div>"
      ],
      "text/plain": [
       "   best_score                                       best_params\n",
       "0     0.61511  {'max_leaf_nodes': 1000, 'min_samples_split': 2}"
      ]
     },
     "execution_count": 20,
     "metadata": {},
     "output_type": "execute_result"
    }
   ],
   "source": [
    "from sklearn.tree import DecisionTreeClassifier\n",
    "clf = GridSearchCV(DecisionTreeClassifier(), {\n",
    "    'max_leaf_nodes' : [2,1000],\n",
    "    'min_samples_split' :   [2,3,4]\n",
    "    \n",
    "}, cv=StratifiedKFold(5), return_train_score=False)\n",
    "clf.fit(x_data, y_data)\n",
    "scores = []\n",
    "\n",
    "scores.append({\n",
    "    'best_score': clf.best_score_,\n",
    "    'best_params': clf.best_params_\n",
    "    })\n",
    "    \n",
    "did = pd.DataFrame(scores,columns=['best_score','best_params'])\n",
    "did\n"
   ]
  },
  {
   "cell_type": "code",
   "execution_count": 32,
   "metadata": {},
   "outputs": [
    {
     "name": "stdout",
     "output_type": "stream",
     "text": [
      "              precision    recall  f1-score   support\n",
      "\n",
      "           0       0.57      0.63      0.60       108\n",
      "           1       0.64      0.59      0.61       123\n",
      "\n",
      "    accuracy                           0.61       231\n",
      "   macro avg       0.61      0.61      0.61       231\n",
      "weighted avg       0.61      0.61      0.61       231\n",
      "\n"
     ]
    },
    {
     "data": {
      "image/png": "[encoded data removed]",
      "text/plain": [
       "<Figure size 360x360 with 2 Axes>"
      ]
     },
     "metadata": {
      "needs_background": "light"
     },
     "output_type": "display_data"
    },
    {
     "name": "stdout",
     "output_type": "stream",
     "text": [
      "              precision    recall  f1-score   support\n",
      "\n",
      "           0       0.62      0.70      0.66       108\n",
      "           1       0.70      0.61      0.66       122\n",
      "\n",
      "    accuracy                           0.66       230\n",
      "   macro avg       0.66      0.66      0.66       230\n",
      "weighted avg       0.66      0.66      0.66       230\n",
      "\n"
     ]
    },
    {
     "data": {
      "image/png": "[encoded data removed]",
      "text/plain": [
       "<Figure size 360x360 with 2 Axes>"
      ]
     },
     "metadata": {
      "needs_background": "light"
     },
     "output_type": "display_data"
    },
    {
     "name": "stdout",
     "output_type": "stream",
     "text": [
      "              precision    recall  f1-score   support\n",
      "\n",
      "           0       0.54      0.55      0.54       108\n",
      "           1       0.60      0.59      0.59       122\n",
      "\n",
      "    accuracy                           0.57       230\n",
      "   macro avg       0.57      0.57      0.57       230\n",
      "weighted avg       0.57      0.57      0.57       230\n",
      "\n"
     ]
    },
    {
     "data": {
      "image/png": "[encoded data removed]",
      "text/plain": [
       "<Figure size 360x360 with 2 Axes>"
      ]
     },
     "metadata": {
      "needs_background": "light"
     },
     "output_type": "display_data"
    },
    {
     "name": "stdout",
     "output_type": "stream",
     "text": [
      "              precision    recall  f1-score   support\n",
      "\n",
      "           0       0.58      0.67      0.62       108\n",
      "           1       0.66      0.57      0.61       122\n",
      "\n",
      "    accuracy                           0.62       230\n",
      "   macro avg       0.62      0.62      0.62       230\n",
      "weighted avg       0.62      0.62      0.62       230\n",
      "\n"
     ]
    },
    {
     "data": {
      "image/png": "[encoded data removed]",
      "text/plain": [
       "<Figure size 360x360 with 2 Axes>"
      ]
     },
     "metadata": {
      "needs_background": "light"
     },
     "output_type": "display_data"
    },
    {
     "name": "stdout",
     "output_type": "stream",
     "text": [
      "              precision    recall  f1-score   support\n",
      "\n",
      "           0       0.54      0.51      0.52       108\n",
      "           1       0.59      0.61      0.60       122\n",
      "\n",
      "    accuracy                           0.57       230\n",
      "   macro avg       0.56      0.56      0.56       230\n",
      "weighted avg       0.56      0.57      0.56       230\n",
      "\n"
     ]
    },
    {
     "data": {
      "image/png": "[encoded data removed]",
      "text/plain": [
       "<Figure size 360x360 with 2 Axes>"
      ]
     },
     "metadata": {
      "needs_background": "light"
     },
     "output_type": "display_data"
    }
   ],
   "source": [
    "folds = StratifiedKFold(n_splits=5)\n",
    "\n",
    "for train_index, test_index in folds.split(x_data, y_data):\n",
    "    X_train, X_test, y_train, y_test = x_data[train_index], x_data[test_index], \\\n",
    "                                       y_data[train_index], y_data[test_index]\n",
    "    cm = get_score(DecisionTreeClassifier(max_leaf_nodes = 1000, min_samples_split=2), X_train, X_test, y_train, y_test)  \n",
    "    f, ax =plt.subplots(figsize = (5,5))\n",
    "    sns.heatmap(cm,annot = True, linewidths= 0.5, linecolor=\"red\", fmt=\".0f\", ax=ax)\n",
    "    plt.xlabel(\"y_pred\")\n",
    "    plt.ylabel(\"y_true\")\n",
    "    plt.show()"
   ]
  },
  {
   "cell_type": "code",
   "execution_count": 21,
   "metadata": {},
   "outputs": [
    {
     "data": {
      "text/html": [
       "<div>\n",
       "<style scoped>\n",
       "    .dataframe tbody tr th:only-of-type {\n",
       "        vertical-align: middle;\n",
       "    }\n",
       "\n",
       "    .dataframe tbody tr th {\n",
       "        vertical-align: top;\n",
       "    }\n",
       "\n",
       "    .dataframe thead th {\n",
       "        text-align: right;\n",
       "    }\n",
       "</style>\n",
       "<table border=\"1\" class=\"dataframe\">\n",
       "  <thead>\n",
       "    <tr style=\"text-align: right;\">\n",
       "      <th></th>\n",
       "      <th>best_score</th>\n",
       "      <th>best_params</th>\n",
       "    </tr>\n",
       "  </thead>\n",
       "  <tbody>\n",
       "    <tr>\n",
       "      <th>0</th>\n",
       "      <td>0.708933</td>\n",
       "      <td>{'learning_rate': 1, 'n_estimators': 2000}</td>\n",
       "    </tr>\n",
       "  </tbody>\n",
       "</table>\n",
       "</div>"
      ],
      "text/plain": [
       "   best_score                                 best_params\n",
       "0    0.708933  {'learning_rate': 1, 'n_estimators': 2000}"
      ]
     },
     "execution_count": 21,
     "metadata": {},
     "output_type": "execute_result"
    }
   ],
   "source": [
    "from sklearn.ensemble import AdaBoostClassifier\n",
    "clf = GridSearchCV(AdaBoostClassifier(), {\n",
    "     'learning_rate' : [.01,.1, 1],\n",
    "     'n_estimators': [500, 1000, 2000]\n",
    "    \n",
    "}, cv=StratifiedKFold(5), return_train_score=False)\n",
    "clf.fit(x_data, y_data)\n",
    "scores = []\n",
    "\n",
    "scores.append({\n",
    "    'best_score': clf.best_score_,\n",
    "    'best_params': clf.best_params_\n",
    "    })\n",
    "    \n",
    "did = pd.DataFrame(scores,columns=['best_score','best_params'])\n",
    "did"
   ]
  },
  {
   "cell_type": "code",
   "execution_count": 33,
   "metadata": {},
   "outputs": [
    {
     "name": "stdout",
     "output_type": "stream",
     "text": [
      "              precision    recall  f1-score   support\n",
      "\n",
      "           0       0.70      0.74      0.72       108\n",
      "           1       0.76      0.72      0.74       123\n",
      "\n",
      "    accuracy                           0.73       231\n",
      "   macro avg       0.73      0.73      0.73       231\n",
      "weighted avg       0.73      0.73      0.73       231\n",
      "\n"
     ]
    },
    {
     "data": {
      "image/png": "[encoded data removed]",
      "text/plain": [
       "<Figure size 360x360 with 2 Axes>"
      ]
     },
     "metadata": {
      "needs_background": "light"
     },
     "output_type": "display_data"
    },
    {
     "name": "stdout",
     "output_type": "stream",
     "text": [
      "              precision    recall  f1-score   support\n",
      "\n",
      "           0       0.63      0.66      0.65       108\n",
      "           1       0.69      0.66      0.67       122\n",
      "\n",
      "    accuracy                           0.66       230\n",
      "   macro avg       0.66      0.66      0.66       230\n",
      "weighted avg       0.66      0.66      0.66       230\n",
      "\n"
     ]
    },
    {
     "data": {
      "image/png": "[encoded data removed]",
      "text/plain": [
       "<Figure size 360x360 with 2 Axes>"
      ]
     },
     "metadata": {
      "needs_background": "light"
     },
     "output_type": "display_data"
    },
    {
     "name": "stdout",
     "output_type": "stream",
     "text": [
      "              precision    recall  f1-score   support\n",
      "\n",
      "           0       0.67      0.68      0.67       108\n",
      "           1       0.71      0.70      0.71       122\n",
      "\n",
      "    accuracy                           0.69       230\n",
      "   macro avg       0.69      0.69      0.69       230\n",
      "weighted avg       0.69      0.69      0.69       230\n",
      "\n"
     ]
    },
    {
     "data": {
      "image/png": "[encoded data removed]",
      "text/plain": [
       "<Figure size 360x360 with 2 Axes>"
      ]
     },
     "metadata": {
      "needs_background": "light"
     },
     "output_type": "display_data"
    },
    {
     "name": "stdout",
     "output_type": "stream",
     "text": [
      "              precision    recall  f1-score   support\n",
      "\n",
      "           0       0.73      0.69      0.70       108\n",
      "           1       0.73      0.77      0.75       122\n",
      "\n",
      "    accuracy                           0.73       230\n",
      "   macro avg       0.73      0.73      0.73       230\n",
      "weighted avg       0.73      0.73      0.73       230\n",
      "\n"
     ]
    },
    {
     "data": {
      "image/png": "[encoded data removed]",
      "text/plain": [
       "<Figure size 360x360 with 2 Axes>"
      ]
     },
     "metadata": {
      "needs_background": "light"
     },
     "output_type": "display_data"
    },
    {
     "name": "stdout",
     "output_type": "stream",
     "text": [
      "              precision    recall  f1-score   support\n",
      "\n",
      "           0       0.74      0.69      0.71       108\n",
      "           1       0.74      0.78      0.76       122\n",
      "\n",
      "    accuracy                           0.74       230\n",
      "   macro avg       0.74      0.74      0.74       230\n",
      "weighted avg       0.74      0.74      0.74       230\n",
      "\n"
     ]
    },
    {
     "data": {
      "image/png": "[encoded data removed]",
      "text/plain": [
       "<Figure size 360x360 with 2 Axes>"
      ]
     },
     "metadata": {
      "needs_background": "light"
     },
     "output_type": "display_data"
    }
   ],
   "source": [
    "folds = StratifiedKFold(n_splits=5)\n",
    "\n",
    "for train_index, test_index in folds.split(x_data, y_data):\n",
    "    X_train, X_test, y_train, y_test = x_data[train_index], x_data[test_index], \\\n",
    "                                       y_data[train_index], y_data[test_index]\n",
    "    cm = get_score(AdaBoostClassifier(learning_rate=1,n_estimators=2000), X_train, X_test, y_train, y_test)  \n",
    "    f, ax =plt.subplots(figsize = (5,5))\n",
    "    sns.heatmap(cm,annot = True, linewidths= 0.5, linecolor=\"red\", fmt=\".0f\", ax=ax)\n",
    "    plt.xlabel(\"y_pred\")\n",
    "    plt.ylabel(\"y_true\")\n",
    "    plt.show()"
   ]
  },
  {
   "cell_type": "code",
   "execution_count": 22,
   "metadata": {},
   "outputs": [
    {
     "data": {
      "text/html": [
       "<div>\n",
       "<style scoped>\n",
       "    .dataframe tbody tr th:only-of-type {\n",
       "        vertical-align: middle;\n",
       "    }\n",
       "\n",
       "    .dataframe tbody tr th {\n",
       "        vertical-align: top;\n",
       "    }\n",
       "\n",
       "    .dataframe thead th {\n",
       "        text-align: right;\n",
       "    }\n",
       "</style>\n",
       "<table border=\"1\" class=\"dataframe\">\n",
       "  <thead>\n",
       "    <tr style=\"text-align: right;\">\n",
       "      <th></th>\n",
       "      <th>best_score</th>\n",
       "      <th>best_params</th>\n",
       "    </tr>\n",
       "  </thead>\n",
       "  <tbody>\n",
       "    <tr>\n",
       "      <th>0</th>\n",
       "      <td>0.642037</td>\n",
       "      <td>{'leaf_size': 1, 'n_neighbors': 100, 'p': 1}</td>\n",
       "    </tr>\n",
       "  </tbody>\n",
       "</table>\n",
       "</div>"
      ],
      "text/plain": [
       "   best_score                                   best_params\n",
       "0    0.642037  {'leaf_size': 1, 'n_neighbors': 100, 'p': 1}"
      ]
     },
     "execution_count": 22,
     "metadata": {},
     "output_type": "execute_result"
    }
   ],
   "source": [
    "from sklearn.neighbors import KNeighborsClassifier\n",
    "clf = GridSearchCV(KNeighborsClassifier(), {\n",
    "     'p': [1,2],\n",
    "     'n_neighbors': [1,100],\n",
    "     'leaf_size' : [1,100]\n",
    "    \n",
    "}, cv=StratifiedKFold(5), return_train_score=False)\n",
    "clf.fit(x_data, y_data)\n",
    "scores = []\n",
    "\n",
    "scores.append({\n",
    "    'best_score': clf.best_score_,\n",
    "    'best_params': clf.best_params_\n",
    "    })\n",
    "    \n",
    "did = pd.DataFrame(scores,columns=['best_score','best_params'])\n",
    "did"
   ]
  },
  {
   "cell_type": "code",
   "execution_count": 34,
   "metadata": {},
   "outputs": [
    {
     "name": "stdout",
     "output_type": "stream",
     "text": [
      "              precision    recall  f1-score   support\n",
      "\n",
      "           0       0.59      0.89      0.71       108\n",
      "           1       0.82      0.46      0.59       123\n",
      "\n",
      "    accuracy                           0.66       231\n",
      "   macro avg       0.71      0.67      0.65       231\n",
      "weighted avg       0.71      0.66      0.64       231\n",
      "\n"
     ]
    },
    {
     "data": {
      "image/png": "[encoded data removed]",
      "text/plain": [
       "<Figure size 360x360 with 2 Axes>"
      ]
     },
     "metadata": {
      "needs_background": "light"
     },
     "output_type": "display_data"
    },
    {
     "name": "stdout",
     "output_type": "stream",
     "text": [
      "              precision    recall  f1-score   support\n",
      "\n",
      "           0       0.59      0.82      0.68       108\n",
      "           1       0.76      0.48      0.59       122\n",
      "\n",
      "    accuracy                           0.64       230\n",
      "   macro avg       0.67      0.65      0.64       230\n",
      "weighted avg       0.68      0.64      0.63       230\n",
      "\n"
     ]
    },
    {
     "data": {
      "image/png": "[encoded data removed]",
      "text/plain": [
       "<Figure size 360x360 with 2 Axes>"
      ]
     },
     "metadata": {
      "needs_background": "light"
     },
     "output_type": "display_data"
    },
    {
     "name": "stdout",
     "output_type": "stream",
     "text": [
      "              precision    recall  f1-score   support\n",
      "\n",
      "           0       0.61      0.83      0.70       108\n",
      "           1       0.78      0.52      0.63       122\n",
      "\n",
      "    accuracy                           0.67       230\n",
      "   macro avg       0.69      0.68      0.67       230\n",
      "weighted avg       0.70      0.67      0.66       230\n",
      "\n"
     ]
    },
    {
     "data": {
      "image/png": "[encoded data removed]",
      "text/plain": [
       "<Figure size 360x360 with 2 Axes>"
      ]
     },
     "metadata": {
      "needs_background": "light"
     },
     "output_type": "display_data"
    },
    {
     "name": "stdout",
     "output_type": "stream",
     "text": [
      "              precision    recall  f1-score   support\n",
      "\n",
      "           0       0.54      0.78      0.63       108\n",
      "           1       0.67      0.40      0.50       122\n",
      "\n",
      "    accuracy                           0.58       230\n",
      "   macro avg       0.60      0.59      0.57       230\n",
      "weighted avg       0.61      0.58      0.56       230\n",
      "\n"
     ]
    },
    {
     "data": {
      "image/png": "[encoded data removed]",
      "text/plain": [
       "<Figure size 360x360 with 2 Axes>"
      ]
     },
     "metadata": {
      "needs_background": "light"
     },
     "output_type": "display_data"
    },
    {
     "name": "stdout",
     "output_type": "stream",
     "text": [
      "              precision    recall  f1-score   support\n",
      "\n",
      "           0       0.60      0.85      0.70       108\n",
      "           1       0.79      0.49      0.61       122\n",
      "\n",
      "    accuracy                           0.66       230\n",
      "   macro avg       0.69      0.67      0.65       230\n",
      "weighted avg       0.70      0.66      0.65       230\n",
      "\n"
     ]
    },
    {
     "data": {
      "image/png": "[encoded data removed]",
      "text/plain": [
       "<Figure size 360x360 with 2 Axes>"
      ]
     },
     "metadata": {
      "needs_background": "light"
     },
     "output_type": "display_data"
    }
   ],
   "source": [
    "folds = StratifiedKFold(n_splits=5)\n",
    "\n",
    "for train_index, test_index in folds.split(x_data, y_data):\n",
    "    X_train, X_test, y_train, y_test = x_data[train_index], x_data[test_index], \\\n",
    "                                       y_data[train_index], y_data[test_index]\n",
    "    cm = get_score(KNeighborsClassifier(n_neighbors=100, p=1, leaf_size = 1), X_train, X_test, y_train, y_test)  \n",
    "    f, ax =plt.subplots(figsize = (5,5))\n",
    "    sns.heatmap(cm,annot = True, linewidths= 0.5, linecolor=\"red\", fmt=\".0f\", ax=ax)\n",
    "    plt.xlabel(\"y_pred\")\n",
    "    plt.ylabel(\"y_true\")\n",
    "    plt.show()"
   ]
  },
  {
   "cell_type": "code",
   "execution_count": 23,
   "metadata": {},
   "outputs": [
    {
     "data": {
      "text/html": [
       "<div>\n",
       "<style scoped>\n",
       "    .dataframe tbody tr th:only-of-type {\n",
       "        vertical-align: middle;\n",
       "    }\n",
       "\n",
       "    .dataframe tbody tr th {\n",
       "        vertical-align: top;\n",
       "    }\n",
       "\n",
       "    .dataframe thead th {\n",
       "        text-align: right;\n",
       "    }\n",
       "</style>\n",
       "<table border=\"1\" class=\"dataframe\">\n",
       "  <thead>\n",
       "    <tr style=\"text-align: right;\">\n",
       "      <th></th>\n",
       "      <th>best_score</th>\n",
       "      <th>best_params</th>\n",
       "    </tr>\n",
       "  </thead>\n",
       "  <tbody>\n",
       "    <tr>\n",
       "      <th>0</th>\n",
       "      <td>0.748059</td>\n",
       "      <td>{'C': 500}</td>\n",
       "    </tr>\n",
       "  </tbody>\n",
       "</table>\n",
       "</div>"
      ],
      "text/plain": [
       "   best_score best_params\n",
       "0    0.748059  {'C': 500}"
      ]
     },
     "execution_count": 23,
     "metadata": {},
     "output_type": "execute_result"
    }
   ],
   "source": [
    "from sklearn.linear_model import LogisticRegression\n",
    "clf = GridSearchCV(LogisticRegression(solver='liblinear',multi_class='auto'), {\n",
    "     'C': [1,5,500]\n",
    "    \n",
    "}, cv=StratifiedKFold(5), return_train_score=False)\n",
    "clf.fit(x_data, y_data)\n",
    "scores = []\n",
    "\n",
    "scores.append({\n",
    "    'best_score': clf.best_score_,\n",
    "    'best_params': clf.best_params_\n",
    "    })\n",
    "    \n",
    "did = pd.DataFrame(scores,columns=['best_score','best_params'])\n",
    "did"
   ]
  },
  {
   "cell_type": "code",
   "execution_count": 35,
   "metadata": {},
   "outputs": [
    {
     "name": "stdout",
     "output_type": "stream",
     "text": [
      "              precision    recall  f1-score   support\n",
      "\n",
      "           0       0.68      0.80      0.74       108\n",
      "           1       0.79      0.67      0.73       123\n",
      "\n",
      "    accuracy                           0.73       231\n",
      "   macro avg       0.74      0.74      0.73       231\n",
      "weighted avg       0.74      0.73      0.73       231\n",
      "\n"
     ]
    },
    {
     "data": {
      "image/png": "[encoded data removed]",
      "text/plain": [
       "<Figure size 360x360 with 2 Axes>"
      ]
     },
     "metadata": {
      "needs_background": "light"
     },
     "output_type": "display_data"
    },
    {
     "name": "stdout",
     "output_type": "stream",
     "text": [
      "              precision    recall  f1-score   support\n",
      "\n",
      "           0       0.67      0.78      0.72       108\n",
      "           1       0.77      0.66      0.71       122\n",
      "\n",
      "    accuracy                           0.72       230\n",
      "   macro avg       0.72      0.72      0.72       230\n",
      "weighted avg       0.72      0.72      0.72       230\n",
      "\n"
     ]
    },
    {
     "data": {
      "image/png": "[encoded data removed]",
      "text/plain": [
       "<Figure size 360x360 with 2 Axes>"
      ]
     },
     "metadata": {
      "needs_background": "light"
     },
     "output_type": "display_data"
    },
    {
     "name": "stdout",
     "output_type": "stream",
     "text": [
      "              precision    recall  f1-score   support\n",
      "\n",
      "           0       0.73      0.81      0.77       108\n",
      "           1       0.82      0.74      0.78       122\n",
      "\n",
      "    accuracy                           0.77       230\n",
      "   macro avg       0.78      0.78      0.77       230\n",
      "weighted avg       0.78      0.77      0.77       230\n",
      "\n"
     ]
    },
    {
     "data": {
      "image/png": "[encoded data removed]",
      "text/plain": [
       "<Figure size 360x360 with 2 Axes>"
      ]
     },
     "metadata": {
      "needs_background": "light"
     },
     "output_type": "display_data"
    },
    {
     "name": "stdout",
     "output_type": "stream",
     "text": [
      "              precision    recall  f1-score   support\n",
      "\n",
      "           0       0.72      0.81      0.76       108\n",
      "           1       0.81      0.73      0.77       122\n",
      "\n",
      "    accuracy                           0.77       230\n",
      "   macro avg       0.77      0.77      0.77       230\n",
      "weighted avg       0.77      0.77      0.77       230\n",
      "\n"
     ]
    },
    {
     "data": {
      "image/png": "[encoded data removed]",
      "text/plain": [
       "<Figure size 360x360 with 2 Axes>"
      ]
     },
     "metadata": {
      "needs_background": "light"
     },
     "output_type": "display_data"
    },
    {
     "name": "stdout",
     "output_type": "stream",
     "text": [
      "              precision    recall  f1-score   support\n",
      "\n",
      "           0       0.69      0.84      0.76       108\n",
      "           1       0.83      0.67      0.74       122\n",
      "\n",
      "    accuracy                           0.75       230\n",
      "   macro avg       0.76      0.76      0.75       230\n",
      "weighted avg       0.77      0.75      0.75       230\n",
      "\n"
     ]
    },
    {
     "data": {
      "image/png": "[encoded data removed]",
      "text/plain": [
       "<Figure size 360x360 with 2 Axes>"
      ]
     },
     "metadata": {
      "needs_background": "light"
     },
     "output_type": "display_data"
    }
   ],
   "source": [
    "folds = StratifiedKFold(n_splits=5)\n",
    "\n",
    "for train_index, test_index in folds.split(x_data, y_data):\n",
    "    X_train, X_test, y_train, y_test = x_data[train_index], x_data[test_index], \\\n",
    "                                       y_data[train_index], y_data[test_index]\n",
    "    cm = get_score(LogisticRegression(solver='liblinear',multi_class='auto', C = 500), X_train, X_test, y_train, y_test)  \n",
    "    f, ax =plt.subplots(figsize = (5,5))\n",
    "    sns.heatmap(cm,annot = True, linewidths= 0.5, linecolor=\"red\", fmt=\".0f\", ax=ax)\n",
    "    plt.xlabel(\"y_pred\")\n",
    "    plt.ylabel(\"y_true\")\n",
    "    plt.show()"
   ]
  },
  {
   "cell_type": "code",
   "execution_count": 52,
   "metadata": {},
   "outputs": [],
   "source": [
    "from sklearn.ensemble import VotingClassifier\n",
    "m = VotingClassifier(\n",
    "    estimators=[('lr', LogisticRegression(max_iter=100000, C=500)), \n",
    "                ('rf', RandomForestClassifier(n_estimators=50)), \n",
    "                ('dt', DecisionTreeClassifier(max_leaf_nodes=1000, min_samples_split=2)),\n",
    "                ('ADB', AdaBoostClassifier(learning_rate=1, n_estimators=2000)),\n",
    "                ('KNN', KNeighborsClassifier(leaf_size=1, n_neighbors=100, p=1))], \n",
    "    voting='hard')"
   ]
  },
  {
   "cell_type": "code",
   "execution_count": 57,
   "metadata": {},
   "outputs": [
    {
     "name": "stdout",
     "output_type": "stream",
     "text": [
      "              precision    recall  f1-score   support\n",
      "\n",
      "           0       0.68      0.81      0.74       108\n",
      "           1       0.80      0.67      0.73       123\n",
      "\n",
      "    accuracy                           0.74       231\n",
      "   macro avg       0.74      0.74      0.74       231\n",
      "weighted avg       0.75      0.74      0.74       231\n",
      "\n"
     ]
    },
    {
     "data": {
      "image/png": "[encoded data removed]",
      "text/plain": [
       "<Figure size 360x360 with 2 Axes>"
      ]
     },
     "metadata": {
      "needs_background": "light"
     },
     "output_type": "display_data"
    },
    {
     "name": "stdout",
     "output_type": "stream",
     "text": [
      "              precision    recall  f1-score   support\n",
      "\n",
      "           0       0.66      0.80      0.72       108\n",
      "           1       0.78      0.63      0.70       122\n",
      "\n",
      "    accuracy                           0.71       230\n",
      "   macro avg       0.72      0.71      0.71       230\n",
      "weighted avg       0.72      0.71      0.71       230\n",
      "\n"
     ]
    },
    {
     "data": {
      "image/png": "[encoded data removed]",
      "text/plain": [
       "<Figure size 360x360 with 2 Axes>"
      ]
     },
     "metadata": {
      "needs_background": "light"
     },
     "output_type": "display_data"
    },
    {
     "name": "stdout",
     "output_type": "stream",
     "text": [
      "              precision    recall  f1-score   support\n",
      "\n",
      "           0       0.67      0.80      0.73       108\n",
      "           1       0.78      0.65      0.71       122\n",
      "\n",
      "    accuracy                           0.72       230\n",
      "   macro avg       0.72      0.72      0.72       230\n",
      "weighted avg       0.73      0.72      0.72       230\n",
      "\n"
     ]
    },
    {
     "data": {
      "image/png": "[encoded data removed]",
      "text/plain": [
       "<Figure size 360x360 with 2 Axes>"
      ]
     },
     "metadata": {
      "needs_background": "light"
     },
     "output_type": "display_data"
    },
    {
     "name": "stdout",
     "output_type": "stream",
     "text": [
      "              precision    recall  f1-score   support\n",
      "\n",
      "           0       0.62      0.74      0.68       108\n",
      "           1       0.72      0.60      0.65       122\n",
      "\n",
      "    accuracy                           0.67       230\n",
      "   macro avg       0.67      0.67      0.66       230\n",
      "weighted avg       0.67      0.67      0.66       230\n",
      "\n"
     ]
    },
    {
     "data": {
      "image/png": "[encoded data removed]",
      "text/plain": [
       "<Figure size 360x360 with 2 Axes>"
      ]
     },
     "metadata": {
      "needs_background": "light"
     },
     "output_type": "display_data"
    },
    {
     "name": "stdout",
     "output_type": "stream",
     "text": [
      "              precision    recall  f1-score   support\n",
      "\n",
      "           0       0.70      0.83      0.76       108\n",
      "           1       0.82      0.68      0.74       122\n",
      "\n",
      "    accuracy                           0.75       230\n",
      "   macro avg       0.76      0.76      0.75       230\n",
      "weighted avg       0.76      0.75      0.75       230\n",
      "\n"
     ]
    },
    {
     "data": {
      "image/png": "[encoded data removed]",
      "text/plain": [
       "<Figure size 360x360 with 2 Axes>"
      ]
     },
     "metadata": {
      "needs_background": "light"
     },
     "output_type": "display_data"
    }
   ],
   "source": [
    "folds = StratifiedKFold(n_splits=5)\n",
    "\n",
    "for train_index, test_index in folds.split(x_data, y_data):\n",
    "    X_train, X_test, y_train, y_test = x_data[train_index], x_data[test_index], \\\n",
    "                                       y_data[train_index], y_data[test_index]\n",
    "    cm = get_score(m, X_train, X_test, y_train, y_test)  \n",
    "    f, ax =plt.subplots(figsize = (5,5))\n",
    "    sns.heatmap(cm,annot = True, linewidths= 0.5, linecolor=\"red\", fmt=\".0f\", ax=ax)\n",
    "    plt.xlabel(\"y_pred\")\n",
    "    plt.ylabel(\"y_true\")\n",
    "    plt.show()"
   ]
  },
  {
   "cell_type": "code",
   "execution_count": null,
   "metadata": {},
   "outputs": [],
   "source": []
  },
  {
   "cell_type": "code",
   "execution_count": null,
   "metadata": {},
   "outputs": [],
   "source": []
  }
 ],
 "metadata": {
  "kernelspec": {
   "display_name": "Python 3",
   "language": "python",
   "name": "python3"
  },
  "language_info": {
   "codemirror_mode": {
    "name": "ipython",
    "version": 3
   },
   "file_extension": ".py",
   "mimetype": "text/x-python",
   "name": "python",
   "nbconvert_exporter": "python",
   "pygments_lexer": "ipython3",
   "version": "3.8.3"
  }
 },
 "nbformat": 4,
 "nbformat_minor": 4
}
